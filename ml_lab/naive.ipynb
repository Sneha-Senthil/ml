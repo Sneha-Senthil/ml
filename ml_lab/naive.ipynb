{
 "cells": [
  {
   "cell_type": "code",
   "execution_count": null,
   "metadata": {},
   "outputs": [
    {
     "name": "stdout",
     "output_type": "stream",
     "text": [
      "Model Accuracy: 60.00%\n",
      "\n",
      "Test Set and Predictions:\n",
      "     outlook  temp humidity    wind Actual Play Predicted Play\n",
      "9       Rain  Mild   Normal    Weak         Yes            Yes\n",
      "11  Overcast  Mild     High  Strong         Yes             No\n",
      "0      Sunny   Hot     High    Weak          No             No\n",
      "12  Overcast   Hot   Normal    Weak         Yes            Yes\n",
      "5       Rain  Cool   Normal  Strong          No            Yes\n"
     ]
    }
   ],
   "source": [
    "import pandas as pd\n",
    "from sklearn.preprocessing import LabelEncoder\n",
    "from sklearn.naive_bayes import GaussianNB,MultinomialNB,BernoulliNB\n",
    "from sklearn.model_selection import train_test_split\n",
    "from sklearn.metrics import accuracy_score\n",
    "\n",
    "\n",
    "# Step 1: Load dataset from CSV\n",
    "df = pd.read_csv(\"play_tennis.csv\")\n",
    "\n",
    "# Step 2: Drop the \"day\" column (not a feature)\n",
    "df = df.drop(columns=['day'])\n",
    "\n",
    "# Step 3: Encode categorical features into numbers (store encoders for later use)\n",
    "encoders = {}\n",
    "for col in df.columns:\n",
    "    encoders[col] = LabelEncoder()\n",
    "    df[col] = encoders[col].fit_transform(df[col])\n",
    "\n",
    "# Step 4: Split data into features and target\n",
    "X = df.drop(columns=['play'])  # Features\n",
    "y = df['play']  # Target\n",
    "\n",
    "X_train, X_test, y_train, y_test = train_test_split(X, y, test_size=0.3, random_state=42)\n",
    "\n",
    "# Step 5: Train Naïve Bayes model\n",
    "#model = GaussianNB()\n",
    "#model = MultinomialNB()\n",
    "model = BernoulliNB()\n",
    "model.fit(X_train, y_train)\n",
    "\n",
    "# Step 6: Make predictions\n",
    "y_pred = model.predict(X_test)\n",
    "\n",
    "# Step 7: Evaluate accuracy\n",
    "accuracy = accuracy_score(y_test, y_pred)\n",
    "print(f\"Model Accuracy: {accuracy * 100:.2f}%\")\n",
    "\n",
    "# Step 8: Print the test set with actual & predicted results\n",
    "print(\"\\nTest Set and Predictions:\")\n",
    "test_results = X_test.copy()  # Copy test set\n",
    "test_results['Actual Play'] = y_test  # Add actual labels\n",
    "test_results['Predicted Play'] = y_pred  # Add predicted labels\n",
    "\n",
    "# Convert encoded values back to original labels\n",
    "test_results['Actual Play'] = encoders['play'].inverse_transform(test_results['Actual Play'])\n",
    "test_results['Predicted Play'] = encoders['play'].inverse_transform(test_results['Predicted Play'])\n",
    "\n",
    "# Convert feature values back to original categories\n",
    "for col in X_test.columns:\n",
    "    test_results[col] = encoders[col].inverse_transform(test_results[col])\n",
    "\n",
    "# Print the test results\n",
    "print(test_results)\n",
    "\n"
   ]
  },
  {
   "cell_type": "code",
   "execution_count": 3,
   "metadata": {},
   "outputs": [
    {
     "name": "stdout",
     "output_type": "stream",
     "text": [
      "\n",
      "Prediction for new sample (Sunny, Cool, High, Strong): Yes\n"
     ]
    }
   ],
   "source": [
    "# Step 9: Predict for a new sample\n",
    "new_sample = pd.DataFrame([['Sunny', 'Cool', 'High', 'Strong']], columns=['outlook', 'temp', 'humidity', 'wind'])\n",
    "\n",
    "# Ensure column names match exactly with training data\n",
    "new_sample = new_sample[X.columns]  # Reorder columns to match training set\n",
    "\n",
    "# Use the SAME encoders from training data\n",
    "for col in new_sample.columns:\n",
    "    new_sample[col] = encoders[col].transform(new_sample[col])\n",
    "\n",
    "# Predict class for new sample\n",
    "prediction = model.predict(new_sample)\n",
    "prediction_label = encoders['play'].inverse_transform(prediction)[0]  # Decode prediction\n",
    "print(f\"\\nPrediction for new sample (Sunny, Cool, High, Strong): {prediction_label}\")\n"
   ]
  }
 ],
 "metadata": {
  "kernelspec": {
   "display_name": "base",
   "language": "python",
   "name": "python3"
  },
  "language_info": {
   "codemirror_mode": {
    "name": "ipython",
    "version": 3
   },
   "file_extension": ".py",
   "mimetype": "text/x-python",
   "name": "python",
   "nbconvert_exporter": "python",
   "pygments_lexer": "ipython3",
   "version": "3.11.5"
  }
 },
 "nbformat": 4,
 "nbformat_minor": 2
}
